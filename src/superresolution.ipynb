{
 "cells": [
  {
   "cell_type": "markdown",
   "metadata": {
    "id": "Jd2VD5oHe0CM"
   },
   "source": [
    "# Image Superresolution\n",
    "\n",
    "The following notebook shows how to obtain a superresolution image from a set of images of the same object. \n",
    "\n",
    "It is very important, that the images are not perfectly aligned, so that each pixel of the cameras sensor captures a slight different part of the subject. The below presented method can be recreated with Adobe Photoshop and the whole idea is inspired by the following video: \n",
    "https://www.youtube.com/watch?v=2QW9vcnb9c0&t=207s\n",
    "\n",
    "To create a superresolution image, several steps are necessary:\n",
    "1.   Upscaling the images to the desired, new resolution\n",
    "2.   Aligning the images (we do that by matching SIFT feature points)\n",
    "3.   Computing the average out of the aligned images \n",
    "\n",
    "Ideally, computing the mean has the effect of **increasing sharpness**, **removing artifacts** as well as **reducing noise**. Additionally, moving subjects (e.g. water) will be blurred.\n",
    "\n"
   ]
  },
  {
   "cell_type": "code",
   "execution_count": null,
   "metadata": {
    "colab": {
     "base_uri": "https://localhost:8080/"
    },
    "id": "eFUSWmvae2kq",
    "outputId": "5d47396d-3fdc-4cfe-9163-8ff7d6d4d7a2"
   },
   "outputs": [],
   "source": [
    "import cv2\n",
    "import os\n",
    "from src.helper.plot import *\n",
    "from src.helper.superresolution_pipeline import *"
   ]
  },
  {
   "cell_type": "markdown",
   "metadata": {
    "id": "QoJAK0aithTG"
   },
   "source": [
    "### Define the amount of upscaling\n",
    "\n",
    "We want to have a 5-time bigger image than before"
   ]
  },
  {
   "cell_type": "code",
   "execution_count": null,
   "metadata": {
    "id": "ZswvR0uctoUI"
   },
   "outputs": [],
   "source": [
    "resize_scale = 5"
   ]
  },
  {
   "cell_type": "markdown",
   "metadata": {
    "id": "GPLy4wpPeCgy"
   },
   "source": [
    "### Read the images\n",
    "\n",
    "In the repositories `data/` folder are seven unaligned images"
   ]
  },
  {
   "cell_type": "code",
   "execution_count": null,
   "metadata": {
    "colab": {
     "base_uri": "https://localhost:8080/",
     "height": 840
    },
    "id": "ituNDO6WePZt",
    "outputId": "d12e8e26-380a-430c-cfaa-1f5aeda8e69b"
   },
   "outputs": [],
   "source": [
    "filenames = ['img01.jpg', 'img02.jpg', 'img03.jpg', 'img04.jpg', 'img05.jpg', 'img06.jpg', 'img07.jpg']\n",
    "for i in range(0, len(filenames)): \n",
    "  filenames[i] = os.path.join('..', 'data', filenames[i])\n",
    "\n",
    "imgs = read_images(filenames)\n",
    "plot_images(imgs, title='Images')"
   ]
  },
  {
   "cell_type": "markdown",
   "metadata": {
    "id": "hlWfnvMrf59A"
   },
   "source": [
    "### Image upscaling\n",
    "\n",
    "Just simple upscaling of each image (with bilinear interpolation)"
   ]
  },
  {
   "cell_type": "code",
   "execution_count": null,
   "metadata": {
    "id": "J7sGYRblu8R8"
   },
   "outputs": [],
   "source": [
    "for i in range(0, len(imgs)):\n",
    "  imgs[i] = resize_img(imgs[i], scale_factor=resize_scale)"
   ]
  },
  {
   "cell_type": "markdown",
   "metadata": {
    "id": "5MHEnUykgX6q"
   },
   "source": [
    "### Feature extraction and matching\n",
    "\n",
    "Extract SIFT feature points and match the feature points in both images"
   ]
  },
  {
   "cell_type": "code",
   "execution_count": null,
   "metadata": {
    "colab": {
     "base_uri": "https://localhost:8080/",
     "height": 675
    },
    "id": "W6yX8IPGglCn",
    "outputId": "e2ae09cb-9899-4180-ba7a-be506ba86f47"
   },
   "outputs": [],
   "source": [
    "num_keypoints = 50\n",
    "\n",
    "imgs_gray = convert_to_grayscale(imgs)\n",
    "\n",
    "keypoints, descriptors = extract_features(imgs_gray)\n",
    "\n",
    "matches = match_descriptors_to_first_image(descriptors, num_keypoints)\n",
    "\n",
    "plot_matches(imgs[0], keypoints[0], imgs[1], keypoints[1], matches[0], fig_size=[15, 12])"
   ]
  },
  {
   "cell_type": "markdown",
   "metadata": {
    "id": "zeJxCA8agp0w"
   },
   "source": [
    "### Image Alignment\n",
    "\n",
    "Use matched feature points to compute the [homohraphy matrix](https://en.wikipedia.org/wiki/Homography_(computer_vision)) to align the images"
   ]
  },
  {
   "cell_type": "code",
   "execution_count": null,
   "metadata": {
    "id": "3oU8ic0bg3dO"
   },
   "outputs": [],
   "source": [
    "aligned_images = warp_images_to_first_image(matches, keypoints, imgs)"
   ]
  },
  {
   "cell_type": "markdown",
   "metadata": {
    "id": "JYE8vkIJg9Fz"
   },
   "source": [
    "### Superresolution Image\n",
    "\n",
    "Compute the median of all aligned images to obtain a superresolution image"
   ]
  },
  {
   "cell_type": "code",
   "execution_count": null,
   "metadata": {
    "colab": {
     "base_uri": "https://localhost:8080/"
    },
    "id": "Y7NyNQgThHx5",
    "outputId": "a0e566f8-d1d5-4099-93e0-7915f979d346"
   },
   "outputs": [],
   "source": [
    "superres_img = compute_average_image(aligned_images, algorithm='mean')\n",
    "cv2.imwrite('superres.jpg', np.asarray(superres_img))"
   ]
  },
  {
   "cell_type": "markdown",
   "metadata": {
    "id": "fHU5ClTAhJEE"
   },
   "source": [
    "### Plot crop of superresolution image\n",
    "\n",
    "With this we can see that the superresolution image has a lot less upscaling artifacts than a simply upscaled version of the image"
   ]
  },
  {
   "cell_type": "code",
   "execution_count": null,
   "metadata": {
    "colab": {
     "base_uri": "https://localhost:8080/",
     "height": 1000
    },
    "id": "h4-8oq6MvhMW",
    "outputId": "45c528bf-1e12-4d88-a80a-a233d832699d"
   },
   "outputs": [],
   "source": [
    "superres_img = cv2.imread('superres.jpg')\n",
    "y_offset = 2800\n",
    "x_offset = 2000\n",
    "crop_size = 800\n",
    "plot_image(superres_img[y_offset:y_offset+crop_size, x_offset:x_offset+crop_size], title='Crop of Superres Image', fig_size=[10, 10])\n",
    "low_res = imgs[0]\n",
    "plot_image(low_res[y_offset:y_offset+crop_size, x_offset:x_offset+crop_size], title='Crop of Upscaled Image', fig_size=[10, 10])"
   ]
  }
 ],
 "metadata": {
  "accelerator": "GPU",
  "colab": {
   "collapsed_sections": [],
   "name": "Superresolution.ipynb",
   "provenance": []
  },
  "kernelspec": {
   "display_name": "Python 3 (ipykernel)",
   "language": "python",
   "name": "python3"
  },
  "language_info": {
   "codemirror_mode": {
    "name": "ipython",
    "version": 3
   },
   "file_extension": ".py",
   "mimetype": "text/x-python",
   "name": "python",
   "nbconvert_exporter": "python",
   "pygments_lexer": "ipython3",
   "version": "3.9.6"
  }
 },
 "nbformat": 4,
 "nbformat_minor": 1
}
